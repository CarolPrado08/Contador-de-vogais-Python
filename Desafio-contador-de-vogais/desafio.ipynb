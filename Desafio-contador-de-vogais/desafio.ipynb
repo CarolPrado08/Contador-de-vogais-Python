{
 "cells": [
  {
   "cell_type": "code",
   "execution_count": 1,
   "metadata": {},
   "outputs": [
    {
     "name": "stdout",
     "output_type": "stream",
     "text": [
      "Vezes em que a vogal A apareceu: 60\n",
      "Vezes em que a vogal E apareceu: 44\n",
      "Vezes em que a vogal I apareceu: 22\n",
      "Vezes em que a vogal O apareceu: 54\n",
      "Vezes em que a vogal U apareceu: 21\n"
     ]
    }
   ],
   "source": [
    "nome = \"texto01.txt\"\n",
    "\n",
    "arq = open(nome, \"r\", encoding=\"utf-8\")\n",
    "\n",
    "conteudo = arq.read()\n",
    "conteudo = conteudo.lower()\n",
    "\n",
    "vogais = \"aeiou\"\n",
    "contagem = {vogal: conteudo.count(vogal) for vogal in vogais}\n",
    "\n",
    "for vogal, cont in contagem.items():\n",
    "    print(f\"Vezes em que a vogal {vogal.upper()} apareceu: {cont}\")\n",
    "\n",
    "arq.close()\n"
   ]
  }
 ],
 "metadata": {
  "kernelspec": {
   "display_name": "Python 3",
   "language": "python",
   "name": "python3"
  },
  "language_info": {
   "codemirror_mode": {
    "name": "ipython",
    "version": 3
   },
   "file_extension": ".py",
   "mimetype": "text/x-python",
   "name": "python",
   "nbconvert_exporter": "python",
   "pygments_lexer": "ipython3",
   "version": "3.11.5"
  }
 },
 "nbformat": 4,
 "nbformat_minor": 2
}
